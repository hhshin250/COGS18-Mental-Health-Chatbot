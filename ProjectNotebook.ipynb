{
 "cells": [
  {
   "cell_type": "markdown",
   "id": "b1300fce",
   "metadata": {},
   "source": [
    "# Mental Health Resource Chatbot\n",
    "## Heidi Shin Cogs 18 W23\n"
   ]
  },
  {
   "cell_type": "markdown",
   "id": "2af6fa03",
   "metadata": {},
   "source": [
    "Have you every found yourself struggling with mental health or finding mental health resources avaliable to you? For my project, I decided to create a chatbot that will assist you in finding the right mental health resources and give you helpful mental health suggestions depending on your current situation. The chatbot can output random mental health suggestions as well as information about a disorder you are suffering from and open a youtube video for strategies to deal with panic attacks.\n",
    "\n",
    "This chatbot takes your name, age, and whether you have had previous mental health conditions when suggesting resources and gives you either information on your mental health condition or resources on where to get help. \n",
    "Note: I am not in any way a mental health specialist and do not know for certain if these are right pyschological help treatments so it would be advised not to take anything seriously from this project and find a mental health specialist, especially if you are actually struggling."
   ]
  },
  {
   "cell_type": "markdown",
   "id": "05dbba8d",
   "metadata": {},
   "source": [
    "# Project Code Example Chat"
   ]
  },
  {
   "cell_type": "markdown",
   "id": "eac04900",
   "metadata": {},
   "source": [
    "In this section, I will be showing an example chat with my chatbot."
   ]
  },
  {
   "cell_type": "code",
   "execution_count": 14,
   "id": "0ce10041",
   "metadata": {},
   "outputs": [],
   "source": [
    "from my_module.classes_functions import *\n",
    "from IPython.display import IFrame"
   ]
  },
  {
   "cell_type": "markdown",
   "id": "df5e96c5",
   "metadata": {},
   "source": [
    "The chatbot can store existing users or greet users who are not yet in the dictionary users based on their name. Emily is an added user who will be welcomed back while Amanda is a new user who will be introduced to the chatbot.\n",
    "\n",
    "When specified of a previously existing mental health condition, the chatbot will output a short description of the disorder from the National Institute of Mental Health and also include helpful hotlines for where to get help."
   ]
  },
  {
   "cell_type": "code",
   "execution_count": 2,
   "id": "7c8fe42d",
   "metadata": {},
   "outputs": [],
   "source": [
    "add_user(\"Emily\", 19, \"Yes\")"
   ]
  },
  {
   "cell_type": "code",
   "execution_count": 6,
   "id": "e0174e32",
   "metadata": {},
   "outputs": [
    {
     "name": "stdout",
     "output_type": "stream",
     "text": [
      "What is your name? \n",
      "Emily\n",
      "What is your age? \n",
      "19\n",
      "Do you have any previous mental health conditions? (Yes or No). \n",
      "Yes\n",
      "Welcome back Emily!\n",
      "How can I help you today? (Respond with suggestion, affirmation, or your previous mental health condition).\n",
      "\n",
      "I'm having a panic attack!\n"
     ]
    },
    {
     "data": {
      "text/html": [
       "\n",
       "        <iframe\n",
       "            width=\"560\"\n",
       "            height=\"315\"\n",
       "            src=\"https://www.youtube.com/embed/bF_1ZiFta-E\"\n",
       "            frameborder=\"0\"\n",
       "            allowfullscreen\n",
       "        ></iframe>\n",
       "        "
      ],
      "text/plain": [
       "<IPython.lib.display.IFrame at 0x7fd04e5c73a0>"
      ]
     },
     "metadata": {},
     "output_type": "display_data"
    },
    {
     "name": "stdout",
     "output_type": "stream",
     "text": [
      "Is there anything else I can help you with? (Yes or No)\n",
      "Yes\n",
      "Sure. What else can I do for you?\n",
      "How can I help you today? (Respond with suggestion, affirmation, or your previous mental health condition).\n",
      "\n",
      "Can I get some resources on anxiety?\n",
      "There are several types of anxiety disorders, including generalized anxiety disorder, panic disorder, social anxiety disorder, and various phobia-related disorders.\n",
      "Here are some links that could be helpful: \n",
      "(NAMI) Helpline: 1-800-950-NAMI (6264) \n",
      "CallHOPE Hotline: (833) 317-HOPE (4673)\n",
      "Is there anything else I can help you with? (Yes or No)\n",
      "Yes\n",
      "Sure. What else can I do for you?\n",
      "How can I help you today? (Respond with suggestion, affirmation, or your previous mental health condition).\n",
      "\n",
      "Could I get a positive affirmation?\n",
      "Here's a positive affirmation: \n",
      "You are loved.\n",
      "Is there anything else I can help you with? (Yes or No)\n",
      "No\n",
      "Okay, have a great day!\n"
     ]
    }
   ],
   "source": [
    "help_user()"
   ]
  },
  {
   "cell_type": "code",
   "execution_count": 8,
   "id": "904081dd",
   "metadata": {},
   "outputs": [
    {
     "name": "stdout",
     "output_type": "stream",
     "text": [
      "What is your name? \n",
      "Amanda\n",
      "What is your age? \n",
      "20\n",
      "Do you have any previous mental health conditions? (Yes or No). \n",
      "No\n",
      "Welcome back Amanda!\n",
      "How can I help you today? (Respond with suggestion, affirmation, or your previous mental health condition).\n",
      "\n",
      "Can I get some information on PTSD?\n",
      "Post-traumatic stress disorder (PTSD) is a disorder that develops in some people who have experienced a shocking, scary, or dangerous event.\n",
      "Here are some links that could be helpful: \n",
      "Veteran Combat Call Center: 1 (877) 927-8387 \n",
      "Suicide Prevention Hotline: 988 and Press 1\n",
      "Is there anything else I can help you with? (Yes or No)\n",
      "Yes\n",
      "Sure. What else can I do for you?\n",
      "How can I help you today? (Respond with suggestion, affirmation, or your previous mental health condition).\n",
      "\n",
      "Can I get a mental health suggestion?\n",
      "Sure thing. Here is a reminder to take care of your mental health: \n",
      "Step outside and get some fresh air.Journal your thoughts in a notebook\n",
      "Is there anything else I can help you with? (Yes or No)\n",
      "No\n",
      "Okay, have a great day!\n"
     ]
    }
   ],
   "source": [
    "help_user()"
   ]
  },
  {
   "cell_type": "markdown",
   "id": "a46adff6",
   "metadata": {},
   "source": [
    "# Extra Credit (optional)"
   ]
  },
  {
   "cell_type": "markdown",
   "id": "bfddfb65",
   "metadata": {},
   "source": [
    "Before taking this class I had little knowledge about java but have never had actual coding experience in a project. I feel that I included many different scenarios that the chatbot could produce, including 4 mental health disorders and 3 services (outputting suggestions, positive affirmations, and playing a breahting exercise video) the chatbot could perform that made my chatbot more extensive. \n",
    "\n",
    "While it's not the most complex chatbot, I still challenged myself to learn code outside of this class by implementing IFrame into my code in order to embed a youtube video. Some of the challenges that I faced while trying to do this was that I initially tried to use webbrowser to embed the video but the video had difficulty appearing so I looked for additional methods to try and play the video. I also learned about different ways of embeding the video including HTML and IFrame. This project was one of my most time consuming finals this quarter because of how new I was to coding but I'm glad I took on the challenge and I'm proud of how it turned out. Thank you for the quarter and thank you to TA Sabrina for all the valuable feedback that helped me learn and improve my code!"
   ]
  }
 ],
 "metadata": {
  "kernelspec": {
   "display_name": "Python 3 (clean)",
   "language": "python",
   "name": "python3_clean"
  },
  "language_info": {
   "codemirror_mode": {
    "name": "ipython",
    "version": 3
   },
   "file_extension": ".py",
   "mimetype": "text/x-python",
   "name": "python",
   "nbconvert_exporter": "python",
   "pygments_lexer": "ipython3",
   "version": "3.9.5"
  }
 },
 "nbformat": 4,
 "nbformat_minor": 5
}
